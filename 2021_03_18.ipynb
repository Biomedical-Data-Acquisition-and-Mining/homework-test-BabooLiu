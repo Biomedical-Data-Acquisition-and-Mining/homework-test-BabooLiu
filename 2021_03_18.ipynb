{
 "cells": [
  {
   "cell_type": "code",
   "execution_count": 1,
   "metadata": {},
   "outputs": [],
   "source": [
    "import pandas as pd"
   ]
  },
  {
   "cell_type": "code",
   "execution_count": 2,
   "metadata": {},
   "outputs": [
    {
     "name": "stdout",
     "output_type": "stream",
     "text": [
      "    Name  Location  Age\n",
      "0   John  New York   24\n",
      "1   Anna     Paris   13\n",
      "2  Peter    Berlin   53\n",
      "3  Linda    London   33\n"
     ]
    }
   ],
   "source": [
    "data1 = {'Name': [\"John\", \"Anna\", \"Peter\", \"Linda\"],\n",
    "       'Location': [\"New York\", \"Paris\", \"Berlin\", \"London\"],\n",
    "       'Age': [24, 13, 53, 33]}\n",
    "data1_df = pd.DataFrame(data1)\n",
    "print(data1_df)"
   ]
  },
  {
   "cell_type": "code",
   "execution_count": 3,
   "metadata": {},
   "outputs": [
    {
     "name": "stdout",
     "output_type": "stream",
     "text": [
      "    Name Location  Age\n",
      "3  Linda   London   33\n"
     ]
    }
   ],
   "source": [
    "print(data1_df[data1_df.Location == \"London\"])"
   ]
  },
  {
   "cell_type": "code",
   "execution_count": 5,
   "metadata": {},
   "outputs": [
    {
     "name": "stdout",
     "output_type": "stream",
     "text": [
      "             Date Location  MinTemp  MaxTemp  Rainfall  Evaporation  Sunshine  \\\n",
      "0       2008/12/1   Albury     13.4     22.9       0.6          NaN       NaN   \n",
      "1       2008/12/2   Albury      7.4     25.1       0.0          NaN       NaN   \n",
      "2       2008/12/3   Albury     12.9     25.7       0.0          NaN       NaN   \n",
      "3       2008/12/4   Albury      9.2     28.0       0.0          NaN       NaN   \n",
      "4       2008/12/5   Albury     17.5     32.3       1.0          NaN       NaN   \n",
      "...           ...      ...      ...      ...       ...          ...       ...   \n",
      "145455  2017/6/21    Uluru      2.8     23.4       0.0          NaN       NaN   \n",
      "145456  2017/6/22    Uluru      3.6     25.3       0.0          NaN       NaN   \n",
      "145457  2017/6/23    Uluru      5.4     26.9       0.0          NaN       NaN   \n",
      "145458  2017/6/24    Uluru      7.8     27.0       0.0          NaN       NaN   \n",
      "145459  2017/6/25    Uluru     14.9      NaN       0.0          NaN       NaN   \n",
      "\n",
      "       WindGustDir  WindGustSpeed WindDir9am  ... Humidity9am  Humidity3pm  \\\n",
      "0                W           44.0          W  ...        71.0         22.0   \n",
      "1              WNW           44.0        NNW  ...        44.0         25.0   \n",
      "2              WSW           46.0          W  ...        38.0         30.0   \n",
      "3               NE           24.0         SE  ...        45.0         16.0   \n",
      "4                W           41.0        ENE  ...        82.0         33.0   \n",
      "...            ...            ...        ...  ...         ...          ...   \n",
      "145455           E           31.0         SE  ...        51.0         24.0   \n",
      "145456         NNW           22.0         SE  ...        56.0         21.0   \n",
      "145457           N           37.0         SE  ...        53.0         24.0   \n",
      "145458          SE           28.0        SSE  ...        51.0         24.0   \n",
      "145459         NaN            NaN        ESE  ...        62.0         36.0   \n",
      "\n",
      "        Pressure9am  Pressure3pm  Cloud9am  Cloud3pm  Temp9am  Temp3pm  \\\n",
      "0            1007.7       1007.1       8.0       NaN     16.9     21.8   \n",
      "1            1010.6       1007.8       NaN       NaN     17.2     24.3   \n",
      "2            1007.6       1008.7       NaN       2.0     21.0     23.2   \n",
      "3            1017.6       1012.8       NaN       NaN     18.1     26.5   \n",
      "4            1010.8       1006.0       7.0       8.0     17.8     29.7   \n",
      "...             ...          ...       ...       ...      ...      ...   \n",
      "145455       1024.6       1020.3       NaN       NaN     10.1     22.4   \n",
      "145456       1023.5       1019.1       NaN       NaN     10.9     24.5   \n",
      "145457       1021.0       1016.8       NaN       NaN     12.5     26.1   \n",
      "145458       1019.4       1016.5       3.0       2.0     15.1     26.0   \n",
      "145459       1020.2       1017.9       8.0       8.0     15.0     20.9   \n",
      "\n",
      "        RainToday  RainTomorrow  \n",
      "0              No            No  \n",
      "1              No            No  \n",
      "2              No            No  \n",
      "3              No            No  \n",
      "4              No            No  \n",
      "...           ...           ...  \n",
      "145455         No            No  \n",
      "145456         No            No  \n",
      "145457         No            No  \n",
      "145458         No            No  \n",
      "145459         No           NaN  \n",
      "\n",
      "[145460 rows x 23 columns]\n"
     ]
    }
   ],
   "source": [
    "#load new data that get in kaggle\n",
    "new_data = pd.read_csv(\"C:/Users/Gary/Desktop/jptnotebook/weatherAUS.csv\")\n",
    "print(new_data)"
   ]
  },
  {
   "cell_type": "code",
   "execution_count": 16,
   "metadata": {},
   "outputs": [
    {
     "name": "stdout",
     "output_type": "stream",
     "text": [
      "Index(['Date', 'Location', 'MinTemp', 'MaxTemp', 'Rainfall', 'Evaporation',\n",
      "       'Sunshine', 'WindGustDir', 'WindGustSpeed', 'WindDir9am', 'WindDir3pm',\n",
      "       'WindSpeed9am', 'WindSpeed3pm', 'Humidity9am', 'Humidity3pm',\n",
      "       'Pressure9am', 'Pressure3pm', 'Cloud9am', 'Cloud3pm', 'Temp9am',\n",
      "       'Temp3pm', 'RainToday', 'RainTomorrow'],\n",
      "      dtype='object')\n",
      "######################\n",
      "{'Hobart', 'SydneyAirport', 'Sale', 'NorfolkIsland', 'Witchcliffe', 'Mildura', 'Bendigo', 'Woomera', 'Newcastle', 'Perth', 'Launceston', 'AliceSprings', 'NorahHead', 'Townsville', 'Melbourne', 'Cairns', 'Dartmoor', 'Adelaide', 'Wollongong', 'Williamtown', 'Tuggeranong', 'Nhil', 'PearceRAAF', 'Albany', 'Walpole', 'Darwin', 'Cobar', 'GoldCoast', 'BadgerysCreek', 'Richmond', 'Moree', 'MountGambier', 'Canberra', 'Nuriootpa', 'WaggaWagga', 'MountGinini', 'Brisbane', 'Albury', 'Katherine', 'Sydney', 'Penrith', 'MelbourneAirport', 'Portland', 'Uluru', 'Watsonia', 'SalmonGums', 'PerthAirport', 'Ballarat', 'CoffsHarbour'}\n",
      "######################\n",
      "{nan, 'Yes', 'No'}\n",
      "######################\n",
      "(145460, 23)\n"
     ]
    }
   ],
   "source": [
    "print(new_data.keys())\n",
    "print(\"######################\")\n",
    "print(set(list(new_data[\"Location\"])))\n",
    "print(\"######################\")\n",
    "print(set(list(new_data[\"RainTomorrow\"])))\n",
    "print(\"######################\")\n",
    "print(new_data.shape)"
   ]
  },
  {
   "cell_type": "code",
   "execution_count": null,
   "metadata": {},
   "outputs": [],
   "source": []
  }
 ],
 "metadata": {
  "kernelspec": {
   "display_name": "Python 3",
   "language": "python",
   "name": "python3"
  },
  "language_info": {
   "codemirror_mode": {
    "name": "ipython",
    "version": 3
   },
   "file_extension": ".py",
   "mimetype": "text/x-python",
   "name": "python",
   "nbconvert_exporter": "python",
   "pygments_lexer": "ipython3",
   "version": "3.7.6"
  }
 },
 "nbformat": 4,
 "nbformat_minor": 4
}
