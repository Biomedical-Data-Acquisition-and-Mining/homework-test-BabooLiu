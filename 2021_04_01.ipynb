{
 "cells": [
  {
   "cell_type": "code",
   "execution_count": 2,
   "metadata": {},
   "outputs": [],
   "source": [
    "from sklearn.model_selection import train_test_split\n",
    "import pandas as pd"
   ]
  },
  {
   "cell_type": "code",
   "execution_count": 5,
   "metadata": {},
   "outputs": [
    {
     "name": "stdout",
     "output_type": "stream",
     "text": [
      "              Date Location  MinTemp  MaxTemp  Rainfall  Evaporation  \\\n",
      "0       2008-12-01   Albury     13.4     22.9       0.6          NaN   \n",
      "1       2008-12-02   Albury      7.4     25.1       0.0          NaN   \n",
      "2       2008-12-03   Albury     12.9     25.7       0.0          NaN   \n",
      "3       2008-12-04   Albury      9.2     28.0       0.0          NaN   \n",
      "4       2008-12-05   Albury     17.5     32.3       1.0          NaN   \n",
      "...            ...      ...      ...      ...       ...          ...   \n",
      "145455  2017-06-21    Uluru      2.8     23.4       0.0          NaN   \n",
      "145456  2017-06-22    Uluru      3.6     25.3       0.0          NaN   \n",
      "145457  2017-06-23    Uluru      5.4     26.9       0.0          NaN   \n",
      "145458  2017-06-24    Uluru      7.8     27.0       0.0          NaN   \n",
      "145459  2017-06-25    Uluru     14.9      NaN       0.0          NaN   \n",
      "\n",
      "        Sunshine WindGustDir  WindGustSpeed WindDir9am  ... Humidity9am  \\\n",
      "0            NaN           W           44.0          W  ...        71.0   \n",
      "1            NaN         WNW           44.0        NNW  ...        44.0   \n",
      "2            NaN         WSW           46.0          W  ...        38.0   \n",
      "3            NaN          NE           24.0         SE  ...        45.0   \n",
      "4            NaN           W           41.0        ENE  ...        82.0   \n",
      "...          ...         ...            ...        ...  ...         ...   \n",
      "145455       NaN           E           31.0         SE  ...        51.0   \n",
      "145456       NaN         NNW           22.0         SE  ...        56.0   \n",
      "145457       NaN           N           37.0         SE  ...        53.0   \n",
      "145458       NaN          SE           28.0        SSE  ...        51.0   \n",
      "145459       NaN         NaN            NaN        ESE  ...        62.0   \n",
      "\n",
      "        Humidity3pm  Pressure9am  Pressure3pm  Cloud9am  Cloud3pm  Temp9am  \\\n",
      "0              22.0       1007.7       1007.1       8.0       NaN     16.9   \n",
      "1              25.0       1010.6       1007.8       NaN       NaN     17.2   \n",
      "2              30.0       1007.6       1008.7       NaN       2.0     21.0   \n",
      "3              16.0       1017.6       1012.8       NaN       NaN     18.1   \n",
      "4              33.0       1010.8       1006.0       7.0       8.0     17.8   \n",
      "...             ...          ...          ...       ...       ...      ...   \n",
      "145455         24.0       1024.6       1020.3       NaN       NaN     10.1   \n",
      "145456         21.0       1023.5       1019.1       NaN       NaN     10.9   \n",
      "145457         24.0       1021.0       1016.8       NaN       NaN     12.5   \n",
      "145458         24.0       1019.4       1016.5       3.0       2.0     15.1   \n",
      "145459         36.0       1020.2       1017.9       8.0       8.0     15.0   \n",
      "\n",
      "        Temp3pm  RainToday  RainTomorrow  \n",
      "0          21.8         No            No  \n",
      "1          24.3         No            No  \n",
      "2          23.2         No            No  \n",
      "3          26.5         No            No  \n",
      "4          29.7         No            No  \n",
      "...         ...        ...           ...  \n",
      "145455     22.4         No            No  \n",
      "145456     24.5         No            No  \n",
      "145457     26.1         No            No  \n",
      "145458     26.0         No            No  \n",
      "145459     20.9         No           NaN  \n",
      "\n",
      "[145460 rows x 23 columns]\n"
     ]
    }
   ],
   "source": [
    "data = pd.read_csv(\"C:/Users/ASIA-I627/Desktop/archive/weatherAUS.csv\")\n",
    "print(data)"
   ]
  },
  {
   "cell_type": "code",
   "execution_count": 17,
   "metadata": {},
   "outputs": [
    {
     "name": "stdout",
     "output_type": "stream",
     "text": [
      "       Location  MinTemp  MaxTemp  Rainfall  Evaporation  Sunshine  \\\n",
      "0        Albury     13.4     22.9       0.6          NaN       NaN   \n",
      "1        Albury      7.4     25.1       0.0          NaN       NaN   \n",
      "2        Albury     12.9     25.7       0.0          NaN       NaN   \n",
      "3        Albury      9.2     28.0       0.0          NaN       NaN   \n",
      "4        Albury     17.5     32.3       1.0          NaN       NaN   \n",
      "...         ...      ...      ...       ...          ...       ...   \n",
      "145455    Uluru      2.8     23.4       0.0          NaN       NaN   \n",
      "145456    Uluru      3.6     25.3       0.0          NaN       NaN   \n",
      "145457    Uluru      5.4     26.9       0.0          NaN       NaN   \n",
      "145458    Uluru      7.8     27.0       0.0          NaN       NaN   \n",
      "145459    Uluru     14.9      NaN       0.0          NaN       NaN   \n",
      "\n",
      "       WindGustDir  WindGustSpeed WindDir9am WindDir3pm  ...  WindSpeed3pm  \\\n",
      "0                W           44.0          W        WNW  ...          24.0   \n",
      "1              WNW           44.0        NNW        WSW  ...          22.0   \n",
      "2              WSW           46.0          W        WSW  ...          26.0   \n",
      "3               NE           24.0         SE          E  ...           9.0   \n",
      "4                W           41.0        ENE         NW  ...          20.0   \n",
      "...            ...            ...        ...        ...  ...           ...   \n",
      "145455           E           31.0         SE        ENE  ...          11.0   \n",
      "145456         NNW           22.0         SE          N  ...           9.0   \n",
      "145457           N           37.0         SE        WNW  ...           9.0   \n",
      "145458          SE           28.0        SSE          N  ...           7.0   \n",
      "145459         NaN            NaN        ESE        ESE  ...          17.0   \n",
      "\n",
      "        Humidity9am  Humidity3pm  Pressure9am  Pressure3pm  Cloud9am  \\\n",
      "0              71.0         22.0       1007.7       1007.1       8.0   \n",
      "1              44.0         25.0       1010.6       1007.8       NaN   \n",
      "2              38.0         30.0       1007.6       1008.7       NaN   \n",
      "3              45.0         16.0       1017.6       1012.8       NaN   \n",
      "4              82.0         33.0       1010.8       1006.0       7.0   \n",
      "...             ...          ...          ...          ...       ...   \n",
      "145455         51.0         24.0       1024.6       1020.3       NaN   \n",
      "145456         56.0         21.0       1023.5       1019.1       NaN   \n",
      "145457         53.0         24.0       1021.0       1016.8       NaN   \n",
      "145458         51.0         24.0       1019.4       1016.5       3.0   \n",
      "145459         62.0         36.0       1020.2       1017.9       8.0   \n",
      "\n",
      "        Cloud3pm  Temp9am  Temp3pm  RainToday  \n",
      "0            NaN     16.9     21.8         No  \n",
      "1            NaN     17.2     24.3         No  \n",
      "2            2.0     21.0     23.2         No  \n",
      "3            NaN     18.1     26.5         No  \n",
      "4            8.0     17.8     29.7         No  \n",
      "...          ...      ...      ...        ...  \n",
      "145455       NaN     10.1     22.4         No  \n",
      "145456       NaN     10.9     24.5         No  \n",
      "145457       NaN     12.5     26.1         No  \n",
      "145458       2.0     15.1     26.0         No  \n",
      "145459       8.0     15.0     20.9         No  \n",
      "\n",
      "[145460 rows x 21 columns] (145460, 21)\n",
      "0          No\n",
      "1          No\n",
      "2          No\n",
      "3          No\n",
      "4          No\n",
      "         ... \n",
      "145455     No\n",
      "145456     No\n",
      "145457     No\n",
      "145458     No\n",
      "145459    NaN\n",
      "Name: RainTomorrow, Length: 145460, dtype: object (145460,)\n"
     ]
    }
   ],
   "source": [
    "title = data.keys()\n",
    "new_title = title.drop('RainTomorrow')\n",
    "new_title = new_title.drop('Date')\n",
    "X = data[new_title]\n",
    "Y = data['RainTomorrow']\n",
    "print(X, X.shape)\n",
    "print(Y, Y.shape)"
   ]
  },
  {
   "cell_type": "code",
   "execution_count": 18,
   "metadata": {},
   "outputs": [],
   "source": [
    "x_train, y_train, x_test, y_test = train_test_split(X, Y, random_state=0)"
   ]
  },
  {
   "cell_type": "code",
   "execution_count": null,
   "metadata": {},
   "outputs": [],
   "source": []
  }
 ],
 "metadata": {
  "kernelspec": {
   "display_name": "Python 3",
   "language": "python",
   "name": "python3"
  },
  "language_info": {
   "codemirror_mode": {
    "name": "ipython",
    "version": 3
   },
   "file_extension": ".py",
   "mimetype": "text/x-python",
   "name": "python",
   "nbconvert_exporter": "python",
   "pygments_lexer": "ipython3",
   "version": "3.8.3"
  }
 },
 "nbformat": 4,
 "nbformat_minor": 4
}
